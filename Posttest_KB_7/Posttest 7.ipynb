{
 "cells": [
  {
   "cell_type": "code",
   "execution_count": 61,
   "metadata": {},
   "outputs": [],
   "source": [
    "import tensorflow as tf"
   ]
  },
  {
   "cell_type": "code",
   "execution_count": 62,
   "metadata": {},
   "outputs": [
    {
     "data": {
      "text/plain": [
       "<tf.Tensor: shape=(5, 5), dtype=float32, numpy=\n",
       "array([[ 0.02631566,  0.59973025,  2.1930096 ,  0.70548636, -0.15317097],\n",
       "       [-0.87380695, -0.41602153,  0.10885387, -0.30898607, -0.08477694],\n",
       "       [-1.4043791 ,  0.3359162 , -0.5440277 , -0.6701393 , -1.1809127 ],\n",
       "       [-1.1672325 ,  1.168095  , -0.6827249 ,  1.2158072 ,  0.6584982 ],\n",
       "       [ 0.20425868,  0.07945652,  0.07206825, -0.4303542 , -0.32767358]],\n",
       "      dtype=float32)>"
      ]
     },
     "execution_count": 62,
     "metadata": {},
     "output_type": "execute_result"
    }
   ],
   "source": [
    "#pembuatan variabel random tensor\n",
    "random_tensor = tf.random.normal(shape=[5,5], mean=0, stddev=1, seed=1)#penggunan tf.random yang nilainya random\n",
    "random_tensor"
   ]
  },
  {
   "cell_type": "code",
   "execution_count": 63,
   "metadata": {},
   "outputs": [
    {
     "data": {
      "text/plain": [
       "TensorShape([5, 5])"
      ]
     },
     "execution_count": 63,
     "metadata": {},
     "output_type": "execute_result"
    }
   ],
   "source": [
    "#Melihat dimensi\n",
    "random_tensor.shape"
   ]
  },
  {
   "cell_type": "code",
   "execution_count": 64,
   "metadata": {},
   "outputs": [
    {
     "data": {
      "text/plain": [
       "<tf.Tensor: shape=(5, 5), dtype=float32, numpy=\n",
       "array([[ 2.,  3.,  5.,  7., 11.],\n",
       "       [13., 17., 19., 23., 19.],\n",
       "       [31., 37., 41., 43., 47.],\n",
       "       [53., 59., 61., 67., 71.],\n",
       "       [73., 79., 83., 89., 97.]], dtype=float32)>"
      ]
     },
     "execution_count": 64,
     "metadata": {},
     "output_type": "execute_result"
    }
   ],
   "source": [
    "#pembuatan variabel prime tensor\n",
    "Prime_tensor = tf.Variable(tf.ones([5,5]))\n",
    "Prime_tensor.read_value()\n",
    "var_value_1 = [[2,3,5,7,11],[13,17,19,23,19],[31,37,41,43,47],[53,59,61,67,71],[73,79,83,89,97]]\n",
    "Prime_tensor.assign(var_value_1)\n",
    "Prime_tensor.read_value()"
   ]
  },
  {
   "cell_type": "code",
   "execution_count": 65,
   "metadata": {},
   "outputs": [
    {
     "data": {
      "text/plain": [
       "TensorShape([5, 5])"
      ]
     },
     "execution_count": 65,
     "metadata": {},
     "output_type": "execute_result"
    }
   ],
   "source": [
    "#melihat dimensi\n",
    "Prime_tensor.shape"
   ]
  },
  {
   "cell_type": "code",
   "execution_count": 66,
   "metadata": {},
   "outputs": [
    {
     "name": "stdout",
     "output_type": "stream",
     "text": [
      "tf.Tensor(\n",
      "[[ 2.0263157  3.5997303  7.1930094  7.7054863 10.846829 ]\n",
      " [12.126193  16.583979  19.108854  22.691013  18.915222 ]\n",
      " [29.595621  37.335915  40.45597   42.32986   45.819088 ]\n",
      " [51.832767  60.168095  60.317276  68.215805  71.6585   ]\n",
      " [73.20426   79.07946   83.07207   88.56965   96.672325 ]], shape=(5, 5), dtype=float32)\n"
     ]
    }
   ],
   "source": [
    "#Oprataor penjumlahan\n",
    "a = random_tensor\n",
    "b = Prime_tensor\n",
    "print(tf.add(a,b))"
   ]
  },
  {
   "cell_type": "code",
   "execution_count": 67,
   "metadata": {},
   "outputs": [
    {
     "name": "stdout",
     "output_type": "stream",
     "text": [
      "tf.Tensor(\n",
      "[[ -1.9736843  -2.4002697  -2.8069904  -6.2945137 -11.153171 ]\n",
      " [-13.873807  -17.416021  -18.891146  -23.308987  -19.084778 ]\n",
      " [-32.40438   -36.664085  -41.54403   -43.67014   -48.180912 ]\n",
      " [-54.167233  -57.831905  -61.682724  -65.784195  -70.3415   ]\n",
      " [-72.79574   -78.92054   -82.92793   -89.43035   -97.327675 ]], shape=(5, 5), dtype=float32)\n"
     ]
    }
   ],
   "source": [
    "#Oprator Pengurangan\n",
    "a = random_tensor\n",
    "b = Prime_tensor\n",
    "print(tf.subtract(a,b))"
   ]
  },
  {
   "cell_type": "code",
   "execution_count": 68,
   "metadata": {},
   "outputs": [
    {
     "name": "stdout",
     "output_type": "stream",
     "text": [
      "tf.Tensor(\n",
      "[[ 5.2631319e-02  1.7991908e+00  1.0965048e+01  4.9384046e+00\n",
      "  -1.6848807e+00]\n",
      " [-1.1359490e+01 -7.0723658e+00  2.0682235e+00 -7.1066794e+00\n",
      "  -1.6107619e+00]\n",
      " [-4.3535751e+01  1.2428899e+01 -2.2305136e+01 -2.8815990e+01\n",
      "  -5.5502899e+01]\n",
      " [-6.1863323e+01  6.8917603e+01 -4.1646217e+01  8.1459084e+01\n",
      "   4.6753376e+01]\n",
      " [ 1.4910884e+01  6.2770653e+00  5.9816647e+00 -3.8301525e+01\n",
      "  -3.1784338e+01]], shape=(5, 5), dtype=float32)\n"
     ]
    }
   ],
   "source": [
    "#Oprator Perkalian\n",
    "a = random_tensor\n",
    "b = Prime_tensor\n",
    "print(tf.multiply(a,b))"
   ]
  },
  {
   "cell_type": "code",
   "execution_count": 69,
   "metadata": {},
   "outputs": [
    {
     "name": "stdout",
     "output_type": "stream",
     "text": [
      "tf.Tensor(\n",
      "[[ 0.01315783  0.19991009  0.4386019   0.10078377 -0.01392463]\n",
      " [-0.06721592 -0.02447185  0.00572915 -0.01343418 -0.00446194]\n",
      " [-0.04530255  0.00907882 -0.01326897 -0.01558464 -0.0251258 ]\n",
      " [-0.02202326  0.01979822 -0.01119221  0.01814638  0.00927462]\n",
      " [ 0.00279806  0.00100578  0.00086829 -0.00483544 -0.00337808]], shape=(5, 5), dtype=float32)\n"
     ]
    }
   ],
   "source": [
    "#Oprator Pembagian\n",
    "a = random_tensor\n",
    "b = Prime_tensor\n",
    "print(tf.divide(a,b))"
   ]
  },
  {
   "cell_type": "code",
   "execution_count": 70,
   "metadata": {},
   "outputs": [
    {
     "name": "stdout",
     "output_type": "stream",
     "text": [
      "tf.Tensor(\n",
      "[[ 6.9251395e-04  2.1570881e-01  5.0722736e+01  8.6980186e-02\n",
      "  -1.0887826e-09]\n",
      " [-1.7314161e-01 -3.3494126e-07  5.0122596e-19 -1.8560713e-12\n",
      "  -4.3378729e-21]\n",
      " [-3.7326336e+04  2.9549129e-18 -1.4469752e-11 -3.3504190e-08\n",
      "  -2.4787734e+03]\n",
      " [-3.6252749e+03  9.5766045e+03 -7.7444398e-11  4.8521656e+05\n",
      "   1.3103199e-13]\n",
      " [ 0.0000000e+00  0.0000000e+00  0.0000000e+00 -2.5734679e-33\n",
      "  -0.0000000e+00]], shape=(5, 5), dtype=float32)\n"
     ]
    }
   ],
   "source": [
    "#oprator Pangkat\n",
    "a = random_tensor\n",
    "b = Prime_tensor\n",
    "print(tf.pow(a,b))"
   ]
  },
  {
   "cell_type": "code",
   "execution_count": 71,
   "metadata": {},
   "outputs": [
    {
     "data": {
      "text/plain": [
       "array([4, 3, 0, 3, 3], dtype=int64)"
      ]
     },
     "execution_count": 71,
     "metadata": {},
     "output_type": "execute_result"
    }
   ],
   "source": [
    "#Melihat nilai max dari variabel random tensor\n",
    "tf.argmax(random_tensor, axis=0).numpy()"
   ]
  },
  {
   "cell_type": "code",
   "execution_count": 72,
   "metadata": {},
   "outputs": [
    {
     "data": {
      "text/plain": [
       "array([2, 1, 3, 2, 2], dtype=int64)"
      ]
     },
     "execution_count": 72,
     "metadata": {},
     "output_type": "execute_result"
    }
   ],
   "source": [
    "#Melihat nilai min dari variabel random tensor\n",
    "tf.argmin(random_tensor, axis=0).numpy()"
   ]
  },
  {
   "cell_type": "code",
   "execution_count": 73,
   "metadata": {},
   "outputs": [
    {
     "data": {
      "text/plain": [
       "<tf.Tensor: shape=(10, 5), dtype=float32, numpy=\n",
       "array([[ 2.6315659e-02,  5.9973025e-01,  2.1930096e+00,  7.0548636e-01,\n",
       "        -1.5317097e-01],\n",
       "       [-8.7380695e-01, -4.1602153e-01,  1.0885387e-01, -3.0898607e-01,\n",
       "        -8.4776938e-02],\n",
       "       [-1.4043791e+00,  3.3591619e-01, -5.4402769e-01, -6.7013931e-01,\n",
       "        -1.1809127e+00],\n",
       "       [-1.1672325e+00,  1.1680950e+00, -6.8272489e-01,  1.2158072e+00,\n",
       "         6.5849823e-01],\n",
       "       [ 2.0425868e-01,  7.9456523e-02,  7.2068252e-02, -4.3035421e-01,\n",
       "        -3.2767358e-01],\n",
       "       [ 2.0000000e+00,  3.0000000e+00,  5.0000000e+00,  7.0000000e+00,\n",
       "         1.1000000e+01],\n",
       "       [ 1.3000000e+01,  1.7000000e+01,  1.9000000e+01,  2.3000000e+01,\n",
       "         1.9000000e+01],\n",
       "       [ 3.1000000e+01,  3.7000000e+01,  4.1000000e+01,  4.3000000e+01,\n",
       "         4.7000000e+01],\n",
       "       [ 5.3000000e+01,  5.9000000e+01,  6.1000000e+01,  6.7000000e+01,\n",
       "         7.1000000e+01],\n",
       "       [ 7.3000000e+01,  7.9000000e+01,  8.3000000e+01,  8.9000000e+01,\n",
       "         9.7000000e+01]], dtype=float32)>"
      ]
     },
     "execution_count": 73,
     "metadata": {},
     "output_type": "execute_result"
    }
   ],
   "source": [
    "#Menggabungkan variabel random tensor dan prime tensor\n",
    "merge = tf.concat([random_tensor, Prime_tensor], axis=0)#untuk kolom 0 kalau baris 1\n",
    "merge"
   ]
  },
  {
   "cell_type": "code",
   "execution_count": 74,
   "metadata": {},
   "outputs": [
    {
     "name": "stdout",
     "output_type": "stream",
     "text": [
      "Sebelum disorting :  [[ 0.02631566  0.59973025  2.1930096   0.70548636 -0.15317097]\n",
      " [-0.87380695 -0.41602153  0.10885387 -0.30898607 -0.08477694]\n",
      " [-1.4043791   0.3359162  -0.5440277  -0.6701393  -1.1809127 ]\n",
      " [-1.1672325   1.168095   -0.6827249   1.2158072   0.6584982 ]\n",
      " [ 0.20425868  0.07945652  0.07206825 -0.4303542  -0.32767358]]\n",
      "Setelah di sorting Descending :  tf.Tensor(\n",
      "[[ 2.1930096   0.70548636  0.59973025  0.02631566 -0.15317097]\n",
      " [ 0.10885387 -0.08477694 -0.30898607 -0.41602153 -0.87380695]\n",
      " [ 0.3359162  -0.5440277  -0.6701393  -1.1809127  -1.4043791 ]\n",
      " [ 1.2158072   1.168095    0.6584982  -0.6827249  -1.1672325 ]\n",
      " [ 0.20425868  0.07945652  0.07206825 -0.32767358 -0.4303542 ]], shape=(5, 5), dtype=float32)\n"
     ]
    }
   ],
   "source": [
    "#Sorting Descending variabel random tensor\n",
    "sort= tf.sort(random_tensor, direction=\"DESCENDING\")\n",
    "print(\"Sebelum disorting : \", random_tensor.numpy())\n",
    "print(\"Setelah di sorting Descending : \",sort)"
   ]
  },
  {
   "cell_type": "code",
   "execution_count": 75,
   "metadata": {},
   "outputs": [
    {
     "name": "stdout",
     "output_type": "stream",
     "text": [
      "Sebelum disorting :  [[ 2.  3.  5.  7. 11.]\n",
      " [13. 17. 19. 23. 19.]\n",
      " [31. 37. 41. 43. 47.]\n",
      " [53. 59. 61. 67. 71.]\n",
      " [73. 79. 83. 89. 97.]]\n",
      "Setelah di sorting Descending :  tf.Tensor(\n",
      "[[11.  7.  5.  3.  2.]\n",
      " [23. 19. 19. 17. 13.]\n",
      " [47. 43. 41. 37. 31.]\n",
      " [71. 67. 61. 59. 53.]\n",
      " [97. 89. 83. 79. 73.]], shape=(5, 5), dtype=float32)\n"
     ]
    }
   ],
   "source": [
    "#Sorting Descending Variabel Prime tensor\n",
    "sort1= tf.sort(Prime_tensor, direction=\"DESCENDING\")\n",
    "print(\"Sebelum disorting : \", Prime_tensor.numpy())\n",
    "print(\"Setelah di sorting Descending : \",sort1)"
   ]
  }
 ],
 "metadata": {
  "kernelspec": {
   "display_name": "Python 3.10.7 64-bit",
   "language": "python",
   "name": "python3"
  },
  "language_info": {
   "codemirror_mode": {
    "name": "ipython",
    "version": 3
   },
   "file_extension": ".py",
   "mimetype": "text/x-python",
   "name": "python",
   "nbconvert_exporter": "python",
   "pygments_lexer": "ipython3",
   "version": "3.10.7"
  },
  "orig_nbformat": 4,
  "vscode": {
   "interpreter": {
    "hash": "e9210ceb952ac3aace3276d3b7f89d31353efda8c88f76f274fe1dced229af1e"
   }
  }
 },
 "nbformat": 4,
 "nbformat_minor": 2
}
